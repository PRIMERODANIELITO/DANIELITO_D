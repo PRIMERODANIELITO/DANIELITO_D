{
 "cells": [
  {
   "cell_type": "code",
   "execution_count": null,
   "id": "081e92d7",
   "metadata": {},
   "outputs": [],
   "source": [
    "a=\"lineal siempre linea\"\n",
    "print(a)\n",
    "\n"
   ]
  }
 ],
 "metadata": {
  "language_info": {
   "name": "python"
  }
 },
 "nbformat": 4,
 "nbformat_minor": 5
}
